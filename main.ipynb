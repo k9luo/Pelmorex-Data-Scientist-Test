{
 "cells": [
  {
   "cell_type": "markdown",
   "metadata": {},
   "source": [
    "# Introduction"
   ]
  },
  {
   "cell_type": "markdown",
   "metadata": {},
   "source": [
    "## Dataset"
   ]
  },
  {
   "cell_type": "markdown",
   "metadata": {},
   "source": [
    "Given a simulated dataset that resembles the data we see after we serve ads in various apps. Each record is an ad that we sent to a user and it contains some information about the device, the app, and the time, and whether the user clicked on the ad or not."
   ]
  },
  {
   "cell_type": "markdown",
   "metadata": {},
   "source": [
    "## Objective"
   ]
  },
  {
   "cell_type": "markdown",
   "metadata": {},
   "source": [
    "The goal is to build a model that can predict if a user will click or not based on the available data points."
   ]
  },
  {
   "cell_type": "markdown",
   "metadata": {},
   "source": [
    "## Questions Need to be Answered"
   ]
  },
  {
   "cell_type": "markdown",
   "metadata": {},
   "source": [
    "- Q1. Inspect and describe the dataset. What changes/data or feature engineering do think should be applied to it?\n",
    "- Q2. Based on the nature of the data, implement the changes you proposed on the data and apply a simple ML algorithm that you think will make sense for this type of problem and type of dataset. (The actual performance you get isn’t important, Focus on the process and take meaningful steps, and explain your choices)\n",
    "- Q3. What evaluation metrics will you focus on?\n",
    "- Q4. What more complex algorithms/techniques would you try if you had more time and data to research this problem? And why?"
   ]
  },
  {
   "cell_type": "markdown",
   "metadata": {},
   "source": [
    "## Solution Overview"
   ]
  },
  {
   "cell_type": "markdown",
   "metadata": {},
   "source": [
    "Assumptions:\n",
    "- Dataset is immutable. We do not have access to modify the raw data.\n",
    "- Assume that the same app has the same app_key for every user.\n",
    "\n",
    "Solutions:\n",
    "- First, we perform exploratory data analysis to inspect the dataset.\n",
    "- Then, we perform feature engineering.\n",
    "- Finally, because of the nature of logistic activation function, the output from logistic regression is probability calibrated. We can simply apply a threshold on prediction results to determine if the system should recommend ads to users. I choose logistic regression as the learning algorithm for this task."
   ]
  },
  {
   "cell_type": "markdown",
   "metadata": {},
   "source": [
    "# Importing Libraries and Data"
   ]
  },
  {
   "cell_type": "markdown",
   "metadata": {},
   "source": [
    "## Libraries and Settings"
   ]
  },
  {
   "cell_type": "code",
   "execution_count": 1,
   "metadata": {},
   "outputs": [],
   "source": [
    "from scipy import sparse\n",
    "from sklearn.feature_selection import mutual_info_classif\n",
    "from sklearn.linear_model import LogisticRegression\n",
    "from sklearn.metrics import precision_score, recall_score, f1_score\n",
    "from sklearn.preprocessing import LabelEncoder\n",
    "from utils.constant import COLUMN_NAMES, COLUMN_NAMES_FOR_SELECT, DATASET_SPLIT\n",
    "from utils.io import load_dataframe_csv, save_dataframe_csv\n",
    "from utils.preprocess import calculate_mutual_information, fill_nan\n",
    "\n",
    "import json\n",
    "import matplotlib.pyplot as plt\n",
    "import numpy as np\n",
    "import pandas as pd\n",
    "import seaborn as sns"
   ]
  },
  {
   "cell_type": "markdown",
   "metadata": {},
   "source": [
    "## Import Data"
   ]
  },
  {
   "cell_type": "code",
   "execution_count": 2,
   "metadata": {},
   "outputs": [
    {
     "name": "stderr",
     "output_type": "stream",
     "text": [
      "b'Skipping line 3731: expected 15 fields, saw 17\\n'\n"
     ]
    },
    {
     "data": {
      "text/html": [
       "<div>\n",
       "<style scoped>\n",
       "    .dataframe tbody tr th:only-of-type {\n",
       "        vertical-align: middle;\n",
       "    }\n",
       "\n",
       "    .dataframe tbody tr th {\n",
       "        vertical-align: top;\n",
       "    }\n",
       "\n",
       "    .dataframe thead th {\n",
       "        text-align: right;\n",
       "    }\n",
       "</style>\n",
       "<table border=\"1\" class=\"dataframe\">\n",
       "  <thead>\n",
       "    <tr style=\"text-align: right;\">\n",
       "      <th></th>\n",
       "      <th>geo_cregion</th>\n",
       "      <th>geo_city</th>\n",
       "      <th>bidder_id</th>\n",
       "      <th>ad_id</th>\n",
       "      <th>device_model</th>\n",
       "      <th>device_os</th>\n",
       "      <th>app_key</th>\n",
       "      <th>day_local</th>\n",
       "      <th>hour_local</th>\n",
       "      <th>app_store_cat</th>\n",
       "      <th>device_language</th>\n",
       "      <th>time</th>\n",
       "      <th>device_devicetype</th>\n",
       "      <th>click</th>\n",
       "      <th>ad_size</th>\n",
       "    </tr>\n",
       "  </thead>\n",
       "  <tbody>\n",
       "    <tr>\n",
       "      <th>0</th>\n",
       "      <td>CA-ON</td>\n",
       "      <td>TORONTO</td>\n",
       "      <td>bidder-24</td>\n",
       "      <td>820401</td>\n",
       "      <td>iPhone</td>\n",
       "      <td>IOS</td>\n",
       "      <td>b_GNcLYpnH2PQZtbdcq7sg..................</td>\n",
       "      <td>5</td>\n",
       "      <td>19</td>\n",
       "      <td>Weather</td>\n",
       "      <td>en</td>\n",
       "      <td>1.604189e+09</td>\n",
       "      <td>1</td>\n",
       "      <td>0</td>\n",
       "      <td>320x50</td>\n",
       "    </tr>\n",
       "    <tr>\n",
       "      <th>1</th>\n",
       "      <td>CA-ON</td>\n",
       "      <td>TORONTO</td>\n",
       "      <td>bidder-36</td>\n",
       "      <td>821811</td>\n",
       "      <td>iPhone</td>\n",
       "      <td>IOS</td>\n",
       "      <td>9Pi0TYS9q9QNlA8noa63Uw..................</td>\n",
       "      <td>5</td>\n",
       "      <td>20</td>\n",
       "      <td>Games</td>\n",
       "      <td>en</td>\n",
       "      <td>1.604189e+09</td>\n",
       "      <td>4</td>\n",
       "      <td>0</td>\n",
       "      <td>320x50</td>\n",
       "    </tr>\n",
       "    <tr>\n",
       "      <th>2</th>\n",
       "      <td>CA-ON</td>\n",
       "      <td>TORONTO</td>\n",
       "      <td>bidder-41</td>\n",
       "      <td>828301</td>\n",
       "      <td>MotoGPower</td>\n",
       "      <td>ANDROID</td>\n",
       "      <td>5Fva0zXsm3UewfFs-MJ80c6DkJmJatstK9cLQYFhzFs.</td>\n",
       "      <td>5</td>\n",
       "      <td>20</td>\n",
       "      <td>Entertainment</td>\n",
       "      <td>en</td>\n",
       "      <td>1.604189e+09</td>\n",
       "      <td>4</td>\n",
       "      <td>0</td>\n",
       "      <td>300x250</td>\n",
       "    </tr>\n",
       "    <tr>\n",
       "      <th>3</th>\n",
       "      <td>CA-ON</td>\n",
       "      <td>TORONTO</td>\n",
       "      <td>bidder-111</td>\n",
       "      <td>821811</td>\n",
       "      <td>iPhone</td>\n",
       "      <td>IOS</td>\n",
       "      <td>pVPfnvr9cmURRSALOCzi5s8rfSVHQh5nXynRm7o8FkvO4h...</td>\n",
       "      <td>5</td>\n",
       "      <td>20</td>\n",
       "      <td>Games</td>\n",
       "      <td>en</td>\n",
       "      <td>1.604189e+09</td>\n",
       "      <td>4</td>\n",
       "      <td>0</td>\n",
       "      <td>320x50</td>\n",
       "    </tr>\n",
       "    <tr>\n",
       "      <th>4</th>\n",
       "      <td>CA-ON</td>\n",
       "      <td>TORONTO</td>\n",
       "      <td>bidder-05</td>\n",
       "      <td>828301</td>\n",
       "      <td>iPad</td>\n",
       "      <td>IOS</td>\n",
       "      <td>9Pi0TYS9q9QNlA8noa63Uw..................</td>\n",
       "      <td>5</td>\n",
       "      <td>20</td>\n",
       "      <td>Games</td>\n",
       "      <td>en</td>\n",
       "      <td>1.604189e+09</td>\n",
       "      <td>5</td>\n",
       "      <td>0</td>\n",
       "      <td>728x90</td>\n",
       "    </tr>\n",
       "  </tbody>\n",
       "</table>\n",
       "</div>"
      ],
      "text/plain": [
       "  geo_cregion geo_city   bidder_id   ad_id device_model device_os  \\\n",
       "0       CA-ON  TORONTO   bidder-24  820401       iPhone       IOS   \n",
       "1       CA-ON  TORONTO   bidder-36  821811       iPhone       IOS   \n",
       "2       CA-ON  TORONTO   bidder-41  828301   MotoGPower   ANDROID   \n",
       "3       CA-ON  TORONTO  bidder-111  821811       iPhone       IOS   \n",
       "4       CA-ON  TORONTO   bidder-05  828301         iPad       IOS   \n",
       "\n",
       "                                             app_key  day_local  hour_local  \\\n",
       "0           b_GNcLYpnH2PQZtbdcq7sg..................          5          19   \n",
       "1           9Pi0TYS9q9QNlA8noa63Uw..................          5          20   \n",
       "2       5Fva0zXsm3UewfFs-MJ80c6DkJmJatstK9cLQYFhzFs.          5          20   \n",
       "3  pVPfnvr9cmURRSALOCzi5s8rfSVHQh5nXynRm7o8FkvO4h...          5          20   \n",
       "4           9Pi0TYS9q9QNlA8noa63Uw..................          5          20   \n",
       "\n",
       "   app_store_cat device_language          time  device_devicetype  click  \\\n",
       "0        Weather              en  1.604189e+09                  1      0   \n",
       "1          Games              en  1.604189e+09                  4      0   \n",
       "2  Entertainment              en  1.604189e+09                  4      0   \n",
       "3          Games              en  1.604189e+09                  4      0   \n",
       "4          Games              en  1.604189e+09                  5      0   \n",
       "\n",
       "   ad_size  \n",
       "0   320x50  \n",
       "1   320x50  \n",
       "2  300x250  \n",
       "3   320x50  \n",
       "4   728x90  "
      ]
     },
     "execution_count": 2,
     "metadata": {},
     "output_type": "execute_result"
    }
   ],
   "source": [
    "df_dataset = load_dataframe_csv('data/raw/', 'click_dataset.csv')\n",
    "df_dataset.columns = COLUMN_NAMES\n",
    "df_dataset.sort_values('time', inplace=True, ignore_index=True)\n",
    "df_dataset.head()"
   ]
  },
  {
   "cell_type": "markdown",
   "metadata": {},
   "source": [
    "<ins>Observations</ins>:\n",
    "- All lines have 15 columns except for line 3731 which has 17 columns. Because I have assumed that the dataset is immutable, I will drop line 3731. If I have access to the source of the log, I would dive deep into details to find out why only that line is different. It is possible that the upstream jobs that generate the dataset has some unexpected behaviour.\n",
    "- All features are discrete except for time."
   ]
  },
  {
   "cell_type": "markdown",
   "metadata": {},
   "source": [
    "# Exploratory Data Analysis"
   ]
  },
  {
   "cell_type": "markdown",
   "metadata": {},
   "source": [
    "## Check Each Feature's Information"
   ]
  },
  {
   "cell_type": "code",
   "execution_count": 3,
   "metadata": {},
   "outputs": [
    {
     "name": "stdout",
     "output_type": "stream",
     "text": [
      "<class 'pandas.core.frame.DataFrame'>\n",
      "RangeIndex: 851298 entries, 0 to 851297\n",
      "Data columns (total 15 columns):\n",
      " #   Column             Non-Null Count   Dtype  \n",
      "---  ------             --------------   -----  \n",
      " 0   geo_cregion        851298 non-null  object \n",
      " 1   geo_city           851298 non-null  object \n",
      " 2   bidder_id          851298 non-null  object \n",
      " 3   ad_id              851298 non-null  int64  \n",
      " 4   device_model       850877 non-null  object \n",
      " 5   device_os          851298 non-null  object \n",
      " 6   app_key            851298 non-null  object \n",
      " 7   day_local          851298 non-null  int64  \n",
      " 8   hour_local         851298 non-null  int64  \n",
      " 9   app_store_cat      734962 non-null  object \n",
      " 10  device_language    743151 non-null  object \n",
      " 11  time               851298 non-null  float64\n",
      " 12  device_devicetype  851298 non-null  int64  \n",
      " 13  click              851298 non-null  int64  \n",
      " 14  ad_size            851298 non-null  object \n",
      "dtypes: float64(1), int64(5), object(9)\n",
      "memory usage: 97.4+ MB\n"
     ]
    }
   ],
   "source": [
    "df_dataset.info()"
   ]
  },
  {
   "cell_type": "markdown",
   "metadata": {},
   "source": [
    "## Handle NaN data"
   ]
  },
  {
   "cell_type": "code",
   "execution_count": 4,
   "metadata": {},
   "outputs": [
    {
     "data": {
      "text/plain": [
       "['device_model', 'app_store_cat', 'device_language']"
      ]
     },
     "execution_count": 4,
     "metadata": {},
     "output_type": "execute_result"
    }
   ],
   "source": [
    "columns_with_nan = df_dataset.columns[df_dataset.isnull().any()].tolist()\n",
    "columns_with_nan"
   ]
  },
  {
   "cell_type": "code",
   "execution_count": 5,
   "metadata": {},
   "outputs": [],
   "source": [
    "for column in columns_with_nan:\n",
    "    fill_nan(df_dataset, column)"
   ]
  },
  {
   "cell_type": "markdown",
   "metadata": {},
   "source": [
    "<ins>Observations</ins>:\n",
    "- We find that device_model, app_store_cat and device_language have NaN values. Because they are discrete features, we can either remove these lines or assign a unique category to NaN values. I choose to assign their values to unknown_device_model, unknown_app_store_cat and unknown_device_language accordingly so that we can levarage all given data in the following steps."
   ]
  },
  {
   "cell_type": "markdown",
   "metadata": {},
   "source": [
    "## Number of Unique Values for Each Feature"
   ]
  },
  {
   "cell_type": "code",
   "execution_count": 6,
   "metadata": {},
   "outputs": [
    {
     "data": {
      "text/html": [
       "<div>\n",
       "<style scoped>\n",
       "    .dataframe tbody tr th:only-of-type {\n",
       "        vertical-align: middle;\n",
       "    }\n",
       "\n",
       "    .dataframe tbody tr th {\n",
       "        vertical-align: top;\n",
       "    }\n",
       "\n",
       "    .dataframe thead th {\n",
       "        text-align: right;\n",
       "    }\n",
       "</style>\n",
       "<table border=\"1\" class=\"dataframe\">\n",
       "  <thead>\n",
       "    <tr style=\"text-align: right;\">\n",
       "      <th></th>\n",
       "      <th>column_name</th>\n",
       "      <th>number_unique_values</th>\n",
       "    </tr>\n",
       "  </thead>\n",
       "  <tbody>\n",
       "    <tr>\n",
       "      <th>1</th>\n",
       "      <td>geo_city</td>\n",
       "      <td>1</td>\n",
       "    </tr>\n",
       "    <tr>\n",
       "      <th>5</th>\n",
       "      <td>device_os</td>\n",
       "      <td>2</td>\n",
       "    </tr>\n",
       "    <tr>\n",
       "      <th>13</th>\n",
       "      <td>click</td>\n",
       "      <td>2</td>\n",
       "    </tr>\n",
       "    <tr>\n",
       "      <th>0</th>\n",
       "      <td>geo_cregion</td>\n",
       "      <td>3</td>\n",
       "    </tr>\n",
       "    <tr>\n",
       "      <th>7</th>\n",
       "      <td>day_local</td>\n",
       "      <td>5</td>\n",
       "    </tr>\n",
       "    <tr>\n",
       "      <th>12</th>\n",
       "      <td>device_devicetype</td>\n",
       "      <td>8</td>\n",
       "    </tr>\n",
       "    <tr>\n",
       "      <th>14</th>\n",
       "      <td>ad_size</td>\n",
       "      <td>11</td>\n",
       "    </tr>\n",
       "    <tr>\n",
       "      <th>8</th>\n",
       "      <td>hour_local</td>\n",
       "      <td>24</td>\n",
       "    </tr>\n",
       "    <tr>\n",
       "      <th>9</th>\n",
       "      <td>app_store_cat</td>\n",
       "      <td>26</td>\n",
       "    </tr>\n",
       "    <tr>\n",
       "      <th>10</th>\n",
       "      <td>device_language</td>\n",
       "      <td>55</td>\n",
       "    </tr>\n",
       "    <tr>\n",
       "      <th>2</th>\n",
       "      <td>bidder_id</td>\n",
       "      <td>86</td>\n",
       "    </tr>\n",
       "    <tr>\n",
       "      <th>3</th>\n",
       "      <td>ad_id</td>\n",
       "      <td>278</td>\n",
       "    </tr>\n",
       "    <tr>\n",
       "      <th>4</th>\n",
       "      <td>device_model</td>\n",
       "      <td>4550</td>\n",
       "    </tr>\n",
       "    <tr>\n",
       "      <th>6</th>\n",
       "      <td>app_key</td>\n",
       "      <td>9218</td>\n",
       "    </tr>\n",
       "    <tr>\n",
       "      <th>11</th>\n",
       "      <td>time</td>\n",
       "      <td>851294</td>\n",
       "    </tr>\n",
       "  </tbody>\n",
       "</table>\n",
       "</div>"
      ],
      "text/plain": [
       "          column_name  number_unique_values\n",
       "1            geo_city                     1\n",
       "5           device_os                     2\n",
       "13              click                     2\n",
       "0         geo_cregion                     3\n",
       "7           day_local                     5\n",
       "12  device_devicetype                     8\n",
       "14            ad_size                    11\n",
       "8          hour_local                    24\n",
       "9       app_store_cat                    26\n",
       "10    device_language                    55\n",
       "2           bidder_id                    86\n",
       "3               ad_id                   278\n",
       "4        device_model                  4550\n",
       "6             app_key                  9218\n",
       "11               time                851294"
      ]
     },
     "execution_count": 6,
     "metadata": {},
     "output_type": "execute_result"
    }
   ],
   "source": [
    "columns_num_unique_values = [(column, len(df_dataset[column].unique())) for column in COLUMN_NAMES]\n",
    "columns = ['column_name', 'number_unique_values']\n",
    "df_columns_num_unique_values = pd.DataFrame.from_records(columns_num_unique_values, columns=columns).sort_values('number_unique_values')\n",
    "df_columns_num_unique_values"
   ]
  },
  {
   "cell_type": "code",
   "execution_count": 7,
   "metadata": {},
   "outputs": [
    {
     "name": "stdout",
     "output_type": "stream",
     "text": [
      "['CA-ON' 'CA-QC' 'CA-BC']\n",
      "['TORONTO']\n"
     ]
    }
   ],
   "source": [
    "print(df_dataset['geo_cregion'].unique())\n",
    "print(df_dataset['geo_city'].unique())"
   ]
  },
  {
   "cell_type": "markdown",
   "metadata": {},
   "source": [
    "<ins>Observations</ins>:\n",
    "- We can see that there is only one value for geo_city in the dataset. This means that knowing this feature does not help us to predict if users would like our recommended ads. We can safely drop this feature in the following stages.\n",
    "- As we already know, geo_cregion represents the country and region codes of where the ad was shown while geo_city represents the city of where the ad was shown. It is obvious that those two features are conflict with each other since city Toronto is not in Quebec nor British Columbia. Therefore, I would investigate further in upstream jobs to find out what causes this and considering to remove both features in later steps. "
   ]
  },
  {
   "cell_type": "markdown",
   "metadata": {},
   "source": [
    "## Numerical Features Information"
   ]
  },
  {
   "cell_type": "code",
   "execution_count": 8,
   "metadata": {},
   "outputs": [
    {
     "data": {
      "text/html": [
       "<div>\n",
       "<style scoped>\n",
       "    .dataframe tbody tr th:only-of-type {\n",
       "        vertical-align: middle;\n",
       "    }\n",
       "\n",
       "    .dataframe tbody tr th {\n",
       "        vertical-align: top;\n",
       "    }\n",
       "\n",
       "    .dataframe thead th {\n",
       "        text-align: right;\n",
       "    }\n",
       "</style>\n",
       "<table border=\"1\" class=\"dataframe\">\n",
       "  <thead>\n",
       "    <tr style=\"text-align: right;\">\n",
       "      <th></th>\n",
       "      <th>ad_id</th>\n",
       "      <th>day_local</th>\n",
       "      <th>hour_local</th>\n",
       "      <th>time</th>\n",
       "      <th>device_devicetype</th>\n",
       "      <th>click</th>\n",
       "    </tr>\n",
       "  </thead>\n",
       "  <tbody>\n",
       "    <tr>\n",
       "      <th>count</th>\n",
       "      <td>851298.000000</td>\n",
       "      <td>851298.000000</td>\n",
       "      <td>851298.000000</td>\n",
       "      <td>8.512980e+05</td>\n",
       "      <td>851298.000000</td>\n",
       "      <td>851298.000000</td>\n",
       "    </tr>\n",
       "    <tr>\n",
       "      <th>mean</th>\n",
       "      <td>824123.329085</td>\n",
       "      <td>2.807487</td>\n",
       "      <td>12.332993</td>\n",
       "      <td>1.604316e+09</td>\n",
       "      <td>2.503311</td>\n",
       "      <td>0.050160</td>\n",
       "    </tr>\n",
       "    <tr>\n",
       "      <th>std</th>\n",
       "      <td>5138.559191</td>\n",
       "      <td>2.696762</td>\n",
       "      <td>6.582018</td>\n",
       "      <td>7.732355e+04</td>\n",
       "      <td>1.545211</td>\n",
       "      <td>0.218275</td>\n",
       "    </tr>\n",
       "    <tr>\n",
       "      <th>min</th>\n",
       "      <td>785002.000000</td>\n",
       "      <td>0.000000</td>\n",
       "      <td>0.000000</td>\n",
       "      <td>1.604189e+09</td>\n",
       "      <td>0.000000</td>\n",
       "      <td>0.000000</td>\n",
       "    </tr>\n",
       "    <tr>\n",
       "      <th>25%</th>\n",
       "      <td>817901.000000</td>\n",
       "      <td>0.000000</td>\n",
       "      <td>7.000000</td>\n",
       "      <td>1.604251e+09</td>\n",
       "      <td>1.000000</td>\n",
       "      <td>0.000000</td>\n",
       "    </tr>\n",
       "    <tr>\n",
       "      <th>50%</th>\n",
       "      <td>824203.000000</td>\n",
       "      <td>1.000000</td>\n",
       "      <td>13.000000</td>\n",
       "      <td>1.604316e+09</td>\n",
       "      <td>1.000000</td>\n",
       "      <td>0.000000</td>\n",
       "    </tr>\n",
       "    <tr>\n",
       "      <th>75%</th>\n",
       "      <td>829412.000000</td>\n",
       "      <td>6.000000</td>\n",
       "      <td>18.000000</td>\n",
       "      <td>1.604382e+09</td>\n",
       "      <td>4.000000</td>\n",
       "      <td>0.000000</td>\n",
       "    </tr>\n",
       "    <tr>\n",
       "      <th>max</th>\n",
       "      <td>831702.000000</td>\n",
       "      <td>6.000000</td>\n",
       "      <td>23.000000</td>\n",
       "      <td>1.604448e+09</td>\n",
       "      <td>7.000000</td>\n",
       "      <td>1.000000</td>\n",
       "    </tr>\n",
       "  </tbody>\n",
       "</table>\n",
       "</div>"
      ],
      "text/plain": [
       "               ad_id      day_local     hour_local          time  \\\n",
       "count  851298.000000  851298.000000  851298.000000  8.512980e+05   \n",
       "mean   824123.329085       2.807487      12.332993  1.604316e+09   \n",
       "std      5138.559191       2.696762       6.582018  7.732355e+04   \n",
       "min    785002.000000       0.000000       0.000000  1.604189e+09   \n",
       "25%    817901.000000       0.000000       7.000000  1.604251e+09   \n",
       "50%    824203.000000       1.000000      13.000000  1.604316e+09   \n",
       "75%    829412.000000       6.000000      18.000000  1.604382e+09   \n",
       "max    831702.000000       6.000000      23.000000  1.604448e+09   \n",
       "\n",
       "       device_devicetype          click  \n",
       "count      851298.000000  851298.000000  \n",
       "mean            2.503311       0.050160  \n",
       "std             1.545211       0.218275  \n",
       "min             0.000000       0.000000  \n",
       "25%             1.000000       0.000000  \n",
       "50%             1.000000       0.000000  \n",
       "75%             4.000000       0.000000  \n",
       "max             7.000000       1.000000  "
      ]
     },
     "execution_count": 8,
     "metadata": {},
     "output_type": "execute_result"
    }
   ],
   "source": [
    "df_dataset.describe()"
   ]
  },
  {
   "cell_type": "markdown",
   "metadata": {},
   "source": [
    "<ins>Observations</ins>:\n",
    "- We can see that there are around 5.016% users click ads. This dataset is unbalanced. A good metric to evaluate learning algorithms is **F1-score**. It might be also worthwile implementing some of the techniques available to tackle imbalanced problems such as downsampling the majority class, upsampling the minority, SMOTE, clustering the majority, etc."
   ]
  },
  {
   "cell_type": "markdown",
   "metadata": {},
   "source": [
    "## Visualize Features"
   ]
  },
  {
   "cell_type": "markdown",
   "metadata": {},
   "source": [
    "###  click"
   ]
  },
  {
   "cell_type": "code",
   "execution_count": 9,
   "metadata": {},
   "outputs": [
    {
     "name": "stderr",
     "output_type": "stream",
     "text": [
      "/home/kai/anaconda3/envs/restore_punct/lib/python3.7/site-packages/seaborn/_decorators.py:43: FutureWarning: Pass the following variable as a keyword arg: x. From version 0.12, the only valid positional argument will be `data`, and passing other arguments without an explicit keyword will result in an error or misinterpretation.\n",
      "  FutureWarning\n"
     ]
    },
    {
     "data": {
      "text/plain": [
       "<AxesSubplot:xlabel='click', ylabel='count'>"
      ]
     },
     "execution_count": 9,
     "metadata": {},
     "output_type": "execute_result"
    },
    {
     "data": {
      "image/png": "[encoded data removed]",
      "text/plain": [
       "<Figure size 432x288 with 1 Axes>"
      ]
     },
     "metadata": {
      "needs_background": "light"
     },
     "output_type": "display_data"
    }
   ],
   "source": [
    "sns.countplot(df_dataset['click'])"
   ]
  },
  {
   "cell_type": "markdown",
   "metadata": {},
   "source": [
    "<ins>Observations</ins>:\n",
    "- As we already know, most ads are not clicked. This is why choosing the right metric for evaluation is important. I will choose **F1-score** as the most important metric along with precision and recall. It might be also worthwile implementing some of the techniques available to tackle imbalanced problems such as downsampling the majority class, upsampling the minority, SMOTE, clustering the majority, etc."
   ]
  },
  {
   "cell_type": "markdown",
   "metadata": {},
   "source": [
    "### geo_cregion"
   ]
  },
  {
   "cell_type": "code",
   "execution_count": 10,
   "metadata": {},
   "outputs": [
    {
     "data": {
      "text/plain": [
       "<AxesSubplot:xlabel='geo_cregion', ylabel='count'>"
      ]
     },
     "execution_count": 10,
     "metadata": {},
     "output_type": "execute_result"
    },
    {
     "data": {
      "image/png": "[encoded data removed]",
      "text/plain": [
       "<Figure size 432x288 with 1 Axes>"
      ]
     },
     "metadata": {
      "needs_background": "light"
     },
     "output_type": "display_data"
    }
   ],
   "source": [
    "sns.countplot(x='geo_cregion', hue='click', data=df_dataset)"
   ]
  },
  {
   "cell_type": "markdown",
   "metadata": {},
   "source": [
    "<ins>Observations</ins>:\n",
    "- Most interactions are in ontario. This feature does not really help us determine if users would click on ads. Additionally, we know that data for this feature has conflict with geo_city. We should consider removing both features in feature selection."
   ]
  },
  {
   "cell_type": "markdown",
   "metadata": {},
   "source": [
    "### bidder_id"
   ]
  },
  {
   "cell_type": "code",
   "execution_count": 11,
   "metadata": {},
   "outputs": [
    {
     "data": {
      "image/png": "[encoded data removed]",
      "text/plain": [
       "<Figure size 1440x360 with 1 Axes>"
      ]
     },
     "metadata": {
      "needs_background": "light"
     },
     "output_type": "display_data"
    }
   ],
   "source": [
    "plt.figure(figsize=(20,5))\n",
    "ax = sns.countplot(x='bidder_id', hue='click', data=df_dataset)\n",
    "ax.set_xticklabels(ax.get_xticklabels(), rotation=40, ha=\"right\")\n",
    "plt.tight_layout()\n",
    "plt.show()"
   ]
  },
  {
   "cell_type": "markdown",
   "metadata": {},
   "source": [
    "<ins>Observations</ins>:\n",
    "- Most internal machines send similar number of ads to users except for bidder-03, bidder-102, bidder-no-bid-stats-group-v4-vf44, bidder-no-bid-stats-group-v4-q4zg and bidder-test-dev-5fpc.\n",
    "- The number of ads that are clicked is similar for most internal machines.\n",
    "- It is not immediately clear if this feature is useful since there is not enough information in terms of how this works. We do not know if certain ads can only be sent from a bidder or certain bidders only send ads to users live in a specific location."
   ]
  },
  {
   "cell_type": "markdown",
   "metadata": {},
   "source": [
    "### ad_id"
   ]
  },
  {
   "cell_type": "code",
   "execution_count": 12,
   "metadata": {},
   "outputs": [
    {
     "data": {
      "text/plain": [
       "ad_id \n",
       "830606    90363\n",
       "830605    59061\n",
       "824203    39148\n",
       "820402    28425\n",
       "817310    27415\n",
       "          ...  \n",
       "824308        1\n",
       "830602        1\n",
       "830604        1\n",
       "825001        1\n",
       "826306        1\n",
       "Length: 278, dtype: int64"
      ]
     },
     "execution_count": 12,
     "metadata": {},
     "output_type": "execute_result"
    }
   ],
   "source": [
    "df_dataset[['ad_id']].value_counts()"
   ]
  },
  {
   "cell_type": "markdown",
   "metadata": {},
   "source": [
    "<ins>Observations</ins>:\n",
    "- ad_id 830606 is the most frequent ad. There are a lot of ads that are only sent out one time. We should consider group ads with low frequencies together."
   ]
  },
  {
   "cell_type": "markdown",
   "metadata": {},
   "source": [
    "### device_model"
   ]
  },
  {
   "cell_type": "code",
   "execution_count": 13,
   "metadata": {},
   "outputs": [
    {
     "data": {
      "text/plain": [
       "device_model   \n",
       "iPhone             183515\n",
       "iPad                32625\n",
       "SM-G960W            27751\n",
       "SM-G950W            21522\n",
       "SM-G973W            19348\n",
       "                    ...  \n",
       "GIONEEA1                1\n",
       "GIONEEF109L             1\n",
       "GIONEES11lite           1\n",
       "GLK-AL00                1\n",
       "zte_blade_v0800         1\n",
       "Length: 4550, dtype: int64"
      ]
     },
     "execution_count": 13,
     "metadata": {},
     "output_type": "execute_result"
    }
   ],
   "source": [
    "df_dataset[['device_model']].value_counts()"
   ]
  },
  {
   "cell_type": "markdown",
   "metadata": {},
   "source": [
    "<ins>Observations</ins>:\n",
    "- iPhone is the most frequent ad. There are a lot of devices models that are only receive one ad. We should consider group device models with low frequencies together."
   ]
  },
  {
   "cell_type": "markdown",
   "metadata": {},
   "source": [
    "### device_os"
   ]
  },
  {
   "cell_type": "code",
   "execution_count": 14,
   "metadata": {},
   "outputs": [
    {
     "data": {
      "image/png": "[encoded data removed]",
      "text/plain": [
       "<Figure size 432x288 with 1 Axes>"
      ]
     },
     "metadata": {
      "needs_background": "light"
     },
     "output_type": "display_data"
    }
   ],
   "source": [
    "ax = sns.countplot(x='device_os', hue='click', data=df_dataset)"
   ]
  },
  {
   "cell_type": "markdown",
   "metadata": {},
   "source": [
    "<ins>Observations</ins>:\n",
    "- Because there are only two discrete values in device_os, we can treat this as a binary feature."
   ]
  },
  {
   "cell_type": "markdown",
   "metadata": {},
   "source": [
    "### app_key"
   ]
  },
  {
   "cell_type": "code",
   "execution_count": 15,
   "metadata": {},
   "outputs": [
    {
     "data": {
      "text/plain": [
       "app_key                                                                                         \n",
       "b_GNcLYpnH2PQZtbdcq7sg..................                                                            49196\n",
       "-8mFWuOSttyWvQDIaF2CqqUi79-5Ug8V4gg877-2W8OLxSMaK0qxaT19tnAHU8LU                                    36936\n",
       "KYm73gOkLgfjSqNluOoBiTHk4-KyNfeYZ0jLsvPUJAU.                                                        26304\n",
       "lkCWWqXe_YhIS5QbamseBw..................                                                            23567\n",
       "y5v4IODpCWwGVpBiVOEeAGkPNkWB0wSd0kCVgZmMkvAQtTbCjdhXUg..                                            17047\n",
       "                                                                                                    ...  \n",
       "_0g6suS3xIlT86o_FAQQo_5VUsxNpsJ0TevBSZio59hrvX8ItQcnmgOVPV9uQ3wj7ky1C7vKBoNslSDG7-zl_Q..                1\n",
       "_0g6suS3xIk7zoJFYk7ZAygRe4fmB3m3zrURRizbwu4h21mIsltOjeYWdbfuG_zaDouJn9UqHzE.                            1\n",
       "_-qTr4Bi2yvfo80HlPasT__qk6-AYtsr36PNB5T2rE_St_icKZXW6uRfXazorwJjT3-pL5-K_9OL1KOvVmMoMXpbLC1YsBkV        1\n",
       "9P-ElIU5dqNP4vLhwoWCCTvr242yGRowwBgPiXA7ec1LesvhelMZWM_euhV0FtilMTBLX7LLsSypmDOwb53CrITC5gKDjcXH        1\n",
       "Ux0XtL-Yjy8WXYOU8q5sxfyyT4UeIOur........                                                                1\n",
       "Length: 9218, dtype: int64"
      ]
     },
     "execution_count": 15,
     "metadata": {},
     "output_type": "execute_result"
    }
   ],
   "source": [
    "df_dataset[['app_key']].value_counts()"
   ]
  },
  {
   "cell_type": "markdown",
   "metadata": {},
   "source": [
    "<ins>Observations</ins>:\n",
    "- b_GNcLYpnH2PQZtbdcq7sg.................. is the most frequent app_key. There are a lot of app_key that are only show one ad. We should consider group app_key with low frequencies together."
   ]
  },
  {
   "cell_type": "markdown",
   "metadata": {},
   "source": [
    "### day_local"
   ]
  },
  {
   "cell_type": "code",
   "execution_count": 16,
   "metadata": {},
   "outputs": [
    {
     "data": {
      "image/png": "[encoded data removed]",
      "text/plain": [
       "<Figure size 432x288 with 1 Axes>"
      ]
     },
     "metadata": {
      "needs_background": "light"
     },
     "output_type": "display_data"
    }
   ],
   "source": [
    "ax = sns.countplot(x='day_local', hue='click', data=df_dataset)"
   ]
  },
  {
   "cell_type": "markdown",
   "metadata": {},
   "source": [
    "<ins>Observations</ins>:\n",
    "- We do not have data on day 2 and 3 and few data on day 4.\n",
    "- The conversion rate does not seem to fluctuate that much on day 0, 1, 5 and 6.\n",
    "- Users click a lot of ads on day 6, 0 and 1. We should consider grouping days with fewer data."
   ]
  },
  {
   "cell_type": "markdown",
   "metadata": {},
   "source": [
    "### hour_local"
   ]
  },
  {
   "cell_type": "code",
   "execution_count": 17,
   "metadata": {},
   "outputs": [
    {
     "data": {
      "image/png": "[encoded data removed]",
      "text/plain": [
       "<Figure size 432x288 with 1 Axes>"
      ]
     },
     "metadata": {
      "needs_background": "light"
     },
     "output_type": "display_data"
    }
   ],
   "source": [
    "ax = sns.countplot(x='hour_local', hue='click', data=df_dataset)"
   ]
  },
  {
   "cell_type": "markdown",
   "metadata": {},
   "source": [
    "<ins>Observations</ins>:\n",
    "- Users tend to click ads during noon and evening.\n",
    "- The number of ads that are clicked do not fluctuate that much."
   ]
  },
  {
   "cell_type": "markdown",
   "metadata": {},
   "source": [
    "### app_store_cat"
   ]
  },
  {
   "cell_type": "code",
   "execution_count": 18,
   "metadata": {},
   "outputs": [
    {
     "data": {
      "image/png": "[encoded data removed]",
      "text/plain": [
       "<Figure size 1440x360 with 1 Axes>"
      ]
     },
     "metadata": {
      "needs_background": "light"
     },
     "output_type": "display_data"
    }
   ],
   "source": [
    "plt.figure(figsize=(20,5))\n",
    "ax = sns.countplot(x='app_store_cat', hue='click', data=df_dataset)\n",
    "ax.set_xticklabels(ax.get_xticklabels(), rotation=40, ha=\"right\")\n",
    "plt.tight_layout()\n",
    "plt.show()"
   ]
  },
  {
   "cell_type": "markdown",
   "metadata": {},
   "source": [
    "<ins>Observations</ins>:\n",
    "- Users tend to click ads on Games and Social.\n",
    "- There are a lot of app_store_cat have few data. We should consider grouping them into one later."
   ]
  },
  {
   "cell_type": "markdown",
   "metadata": {},
   "source": [
    "### device_language"
   ]
  },
  {
   "cell_type": "code",
   "execution_count": 19,
   "metadata": {},
   "outputs": [
    {
     "data": {
      "image/png": "[encoded data removed]",
      "text/plain": [
       "<Figure size 1440x360 with 1 Axes>"
      ]
     },
     "metadata": {
      "needs_background": "light"
     },
     "output_type": "display_data"
    }
   ],
   "source": [
    "plt.figure(figsize=(20,5))\n",
    "ax = sns.countplot(x='device_language', hue='click', data=df_dataset)\n",
    "ax.set_xticklabels(ax.get_xticklabels(), rotation=40, ha=\"right\")\n",
    "plt.tight_layout()\n",
    "plt.show()"
   ]
  },
  {
   "cell_type": "markdown",
   "metadata": {},
   "source": [
    "<ins>Observations</ins>:\n",
    "- device_language en occurs the most frequent.\n",
    "- We can treat this as a binary feature. If device_language is en, this feature is 1. Otherwise, this feature is 0."
   ]
  },
  {
   "cell_type": "markdown",
   "metadata": {},
   "source": [
    "### device_devicetype"
   ]
  },
  {
   "cell_type": "code",
   "execution_count": 20,
   "metadata": {},
   "outputs": [
    {
     "data": {
      "image/png": "[encoded data removed]",
      "text/plain": [
       "<Figure size 432x288 with 1 Axes>"
      ]
     },
     "metadata": {
      "needs_background": "light"
     },
     "output_type": "display_data"
    }
   ],
   "source": [
    "ax = sns.countplot(x='device_devicetype', hue='click', data=df_dataset)"
   ]
  },
  {
   "cell_type": "markdown",
   "metadata": {},
   "source": [
    "<ins>Observations</ins>:\n",
    "- Most users use device_devicetype 1 (Mobile/Tablet) and device_devicetype 4 (Phone).\n",
    "- We can group the rest types into one."
   ]
  },
  {
   "cell_type": "markdown",
   "metadata": {},
   "source": [
    "### ad_size"
   ]
  },
  {
   "cell_type": "code",
   "execution_count": 21,
   "metadata": {},
   "outputs": [
    {
     "data": {
      "image/png": "[encoded data removed]",
      "text/plain": [
       "<Figure size 1440x360 with 1 Axes>"
      ]
     },
     "metadata": {
      "needs_background": "light"
     },
     "output_type": "display_data"
    }
   ],
   "source": [
    "plt.figure(figsize=(20,5))\n",
    "ax = sns.countplot(x='ad_size', hue='click', data=df_dataset)\n",
    "ax.set_xticklabels(ax.get_xticklabels(), rotation=40, ha=\"right\")\n",
    "plt.tight_layout()\n",
    "plt.show()"
   ]
  },
  {
   "cell_type": "markdown",
   "metadata": {},
   "source": [
    "<ins>Observations</ins>:\n",
    "- Most users view ads on size 300x250, 320x480 and 320x50.\n",
    "- We can group the rest types into one."
   ]
  },
  {
   "cell_type": "markdown",
   "metadata": {},
   "source": [
    "## Feature Correlation"
   ]
  },
  {
   "cell_type": "code",
   "execution_count": 22,
   "metadata": {},
   "outputs": [],
   "source": [
    "corr_features = ['bidder_id', 'ad_id', 'device_model', 'device_os', 'app_key', 'day_local', 'hour_local', 'app_store_cat', 'device_language', 'time', 'device_devicetype', 'click', 'ad_size']\n",
    "df_heatmap = df_dataset.copy()\n",
    "for column in corr_features:\n",
    "    le = LabelEncoder()\n",
    "    df_heatmap[column] = le.fit_transform(df_heatmap[column])"
   ]
  },
  {
   "cell_type": "code",
   "execution_count": 23,
   "metadata": {},
   "outputs": [
    {
     "data": {
      "image/png": "[encoded data removed]",
      "text/plain": [
       "<Figure size 1440x1296 with 2 Axes>"
      ]
     },
     "metadata": {
      "needs_background": "light"
     },
     "output_type": "display_data"
    }
   ],
   "source": [
    "plt.figure(figsize=(20, 18))\n",
    "sns.heatmap(df_heatmap.corr().abs(), annot=True)\n",
    "plt.show()"
   ]
  },
  {
   "cell_type": "markdown",
   "metadata": {},
   "source": [
    "<ins>Observations</ins>:\n",
    "- device_model and device_os have strong correlation. day_local and time have strong correlation. We can keep these features if we have sufficient memory. Otherwise, we can keep one of two highly correlated features.\n",
    "- ad_id and device_devicetype have higher correlation to click."
   ]
  },
  {
   "cell_type": "markdown",
   "metadata": {},
   "source": [
    "# Data Preprocessing and Feature Engineering"
   ]
  },
  {
   "cell_type": "markdown",
   "metadata": {},
   "source": [
    "## Remove Unsed Features "
   ]
  },
  {
   "cell_type": "markdown",
   "metadata": {},
   "source": [
    "As we have discussed, geo_city only has one distinct value and geo_cregion has conflict with geo_city. time has strong correlation with day_local. device_model and device_os have high correlation. We will remove geo_cregion, geo_city, time and device_model."
   ]
  },
  {
   "cell_type": "code",
   "execution_count": 24,
   "metadata": {},
   "outputs": [
    {
     "data": {
      "text/html": [
       "<div>\n",
       "<style scoped>\n",
       "    .dataframe tbody tr th:only-of-type {\n",
       "        vertical-align: middle;\n",
       "    }\n",
       "\n",
       "    .dataframe tbody tr th {\n",
       "        vertical-align: top;\n",
       "    }\n",
       "\n",
       "    .dataframe thead th {\n",
       "        text-align: right;\n",
       "    }\n",
       "</style>\n",
       "<table border=\"1\" class=\"dataframe\">\n",
       "  <thead>\n",
       "    <tr style=\"text-align: right;\">\n",
       "      <th></th>\n",
       "      <th>bidder_id</th>\n",
       "      <th>ad_id</th>\n",
       "      <th>device_os</th>\n",
       "      <th>app_key</th>\n",
       "      <th>day_local</th>\n",
       "      <th>hour_local</th>\n",
       "      <th>app_store_cat</th>\n",
       "      <th>device_language</th>\n",
       "      <th>device_devicetype</th>\n",
       "      <th>click</th>\n",
       "      <th>ad_size</th>\n",
       "    </tr>\n",
       "  </thead>\n",
       "  <tbody>\n",
       "    <tr>\n",
       "      <th>0</th>\n",
       "      <td>bidder-24</td>\n",
       "      <td>820401</td>\n",
       "      <td>IOS</td>\n",
       "      <td>b_GNcLYpnH2PQZtbdcq7sg..................</td>\n",
       "      <td>5</td>\n",
       "      <td>19</td>\n",
       "      <td>Weather</td>\n",
       "      <td>en</td>\n",
       "      <td>1</td>\n",
       "      <td>0</td>\n",
       "      <td>320x50</td>\n",
       "    </tr>\n",
       "    <tr>\n",
       "      <th>1</th>\n",
       "      <td>bidder-36</td>\n",
       "      <td>821811</td>\n",
       "      <td>IOS</td>\n",
       "      <td>9Pi0TYS9q9QNlA8noa63Uw..................</td>\n",
       "      <td>5</td>\n",
       "      <td>20</td>\n",
       "      <td>Games</td>\n",
       "      <td>en</td>\n",
       "      <td>4</td>\n",
       "      <td>0</td>\n",
       "      <td>320x50</td>\n",
       "    </tr>\n",
       "    <tr>\n",
       "      <th>2</th>\n",
       "      <td>bidder-41</td>\n",
       "      <td>828301</td>\n",
       "      <td>ANDROID</td>\n",
       "      <td>5Fva0zXsm3UewfFs-MJ80c6DkJmJatstK9cLQYFhzFs.</td>\n",
       "      <td>5</td>\n",
       "      <td>20</td>\n",
       "      <td>Entertainment</td>\n",
       "      <td>en</td>\n",
       "      <td>4</td>\n",
       "      <td>0</td>\n",
       "      <td>300x250</td>\n",
       "    </tr>\n",
       "    <tr>\n",
       "      <th>3</th>\n",
       "      <td>bidder-111</td>\n",
       "      <td>821811</td>\n",
       "      <td>IOS</td>\n",
       "      <td>pVPfnvr9cmURRSALOCzi5s8rfSVHQh5nXynRm7o8FkvO4h...</td>\n",
       "      <td>5</td>\n",
       "      <td>20</td>\n",
       "      <td>Games</td>\n",
       "      <td>en</td>\n",
       "      <td>4</td>\n",
       "      <td>0</td>\n",
       "      <td>320x50</td>\n",
       "    </tr>\n",
       "    <tr>\n",
       "      <th>4</th>\n",
       "      <td>bidder-05</td>\n",
       "      <td>828301</td>\n",
       "      <td>IOS</td>\n",
       "      <td>9Pi0TYS9q9QNlA8noa63Uw..................</td>\n",
       "      <td>5</td>\n",
       "      <td>20</td>\n",
       "      <td>Games</td>\n",
       "      <td>en</td>\n",
       "      <td>5</td>\n",
       "      <td>0</td>\n",
       "      <td>728x90</td>\n",
       "    </tr>\n",
       "  </tbody>\n",
       "</table>\n",
       "</div>"
      ],
      "text/plain": [
       "    bidder_id   ad_id device_os  \\\n",
       "0   bidder-24  820401       IOS   \n",
       "1   bidder-36  821811       IOS   \n",
       "2   bidder-41  828301   ANDROID   \n",
       "3  bidder-111  821811       IOS   \n",
       "4   bidder-05  828301       IOS   \n",
       "\n",
       "                                             app_key  day_local  hour_local  \\\n",
       "0           b_GNcLYpnH2PQZtbdcq7sg..................          5          19   \n",
       "1           9Pi0TYS9q9QNlA8noa63Uw..................          5          20   \n",
       "2       5Fva0zXsm3UewfFs-MJ80c6DkJmJatstK9cLQYFhzFs.          5          20   \n",
       "3  pVPfnvr9cmURRSALOCzi5s8rfSVHQh5nXynRm7o8FkvO4h...          5          20   \n",
       "4           9Pi0TYS9q9QNlA8noa63Uw..................          5          20   \n",
       "\n",
       "   app_store_cat device_language  device_devicetype  click  ad_size  \n",
       "0        Weather              en                  1      0   320x50  \n",
       "1          Games              en                  4      0   320x50  \n",
       "2  Entertainment              en                  4      0  300x250  \n",
       "3          Games              en                  4      0   320x50  \n",
       "4          Games              en                  5      0   728x90  "
      ]
     },
     "execution_count": 24,
     "metadata": {},
     "output_type": "execute_result"
    }
   ],
   "source": [
    "df_dataset = df_dataset.drop(['geo_cregion', 'geo_city', 'time', 'device_model'], axis=1)\n",
    "df_dataset.head()"
   ]
  },
  {
   "cell_type": "markdown",
   "metadata": {},
   "source": [
    "## Preprocess Features"
   ]
  },
  {
   "cell_type": "markdown",
   "metadata": {},
   "source": [
    "### ad_id"
   ]
  },
  {
   "cell_type": "code",
   "execution_count": 25,
   "metadata": {},
   "outputs": [],
   "source": [
    "ad_id_count = df_dataset[['ad_id']].value_counts()\n",
    "ad_id_category = {}\n",
    "ad_id_category[0] = [x[0] for x in ad_id_count.loc[ad_id_count > 1000].index.values] # can also use 2000 as threshold\n",
    "ad_id_category[1] = [x[0] for x in ad_id_count.loc[ad_id_count <= 1000].index.values]\n",
    "\n",
    "ad_id_type_dict = {}\n",
    "for key, values in ad_id_category.items():\n",
    "    for item in values:\n",
    "        ad_id_type_dict[item] = key\n",
    "\n",
    "json.dump(ad_id_type_dict, open(\"data/processed/ad_id_type_dict.json\", \"w\"))\n",
    "df_dataset['ad_id'] = df_dataset['ad_id'].apply(lambda x: str(x) if ad_id_type_dict.get(x) == 0 else \"other_ad_id\")"
   ]
  },
  {
   "cell_type": "markdown",
   "metadata": {},
   "source": [
    "### device_os"
   ]
  },
  {
   "cell_type": "code",
   "execution_count": 26,
   "metadata": {},
   "outputs": [],
   "source": [
    "df_dataset.loc[df_dataset['device_os'] == 'IOS', 'device_os'] = 0\n",
    "df_dataset.loc[df_dataset['device_os'] == 'ANDROID', 'device_os'] = 1\n",
    "df_dataset.device_os = df_dataset.device_os.astype(int)"
   ]
  },
  {
   "cell_type": "markdown",
   "metadata": {},
   "source": [
    "### app_key"
   ]
  },
  {
   "cell_type": "code",
   "execution_count": 27,
   "metadata": {},
   "outputs": [],
   "source": [
    "app_key_count = df_dataset[['app_key']].value_counts()\n",
    "app_key_category = {}\n",
    "app_key_category[0] = [x[0] for x in app_key_count.loc[app_key_count > 20].index.values]\n",
    "app_key_category[1] = [x[0] for x in app_key_count.loc[app_key_count <= 20].index.values]\n",
    "\n",
    "app_key_type_dict = {}\n",
    "for key, values in app_key_category.items():\n",
    "    for item in values:\n",
    "        app_key_type_dict[item] = key\n",
    "\n",
    "json.dump(app_key_type_dict, open(\"data/processed/app_key_type_dict.json\", \"w\"))\n",
    "df_dataset['app_key'] = df_dataset['app_key'].apply(lambda x: x if app_key_type_dict.get(x) == 0 else \"other_app_key\")"
   ]
  },
  {
   "cell_type": "markdown",
   "metadata": {},
   "source": [
    "### day_local"
   ]
  },
  {
   "cell_type": "code",
   "execution_count": 28,
   "metadata": {},
   "outputs": [],
   "source": [
    "day_local_count = df_dataset[['day_local']].value_counts()\n",
    "day_local_category = {}\n",
    "day_local_category[0] = [x[0] for x in day_local_count.loc[day_local_count > 80000].index.values]\n",
    "day_local_category[1] = [x[0] for x in day_local_count.loc[day_local_count <= 80000].index.values]\n",
    "\n",
    "day_local_type_dict = {}\n",
    "for key, values in day_local_category.items():\n",
    "    for item in values:\n",
    "        day_local_type_dict[item] = key\n",
    "\n",
    "json.dump(day_local_type_dict, open(\"data/processed/day_local_type_dict.json\", \"w\"))\n",
    "df_dataset['day_local'] = df_dataset['day_local'].apply(lambda x: str(x) if day_local_type_dict.get(x) == 0 else \"other_day_local\")"
   ]
  },
  {
   "cell_type": "markdown",
   "metadata": {},
   "source": [
    "### app_store_cat"
   ]
  },
  {
   "cell_type": "code",
   "execution_count": 29,
   "metadata": {},
   "outputs": [],
   "source": [
    "app_store_cat_count = df_dataset[['app_store_cat']].value_counts()\n",
    "app_store_cat_category = {}\n",
    "app_store_cat_category[0] = [x[0] for x in app_store_cat_count.loc[app_store_cat_count > 3000].index.values]\n",
    "app_store_cat_category[1] = [x[0] for x in app_store_cat_count.loc[app_store_cat_count <= 3000].index.values]\n",
    "\n",
    "app_store_cat_type_dict = {}\n",
    "for key, values in app_store_cat_category.items():\n",
    "    for item in values:\n",
    "        app_store_cat_type_dict[item] = key\n",
    "\n",
    "json.dump(app_store_cat_type_dict, open(\"data/processed/app_store_cat_type_dict.json\", \"w\"))\n",
    "df_dataset['app_store_cat'] = df_dataset['app_store_cat'].apply(lambda x: x if app_store_cat_type_dict.get(x) == 0 else \"other_app_store_cat\")"
   ]
  },
  {
   "cell_type": "markdown",
   "metadata": {},
   "source": [
    "### device_language"
   ]
  },
  {
   "cell_type": "code",
   "execution_count": 30,
   "metadata": {},
   "outputs": [],
   "source": [
    "device_language_count = df_dataset[['device_language']].value_counts()\n",
    "device_language_category = {}\n",
    "device_language_category[0] = [x[0] for x in device_language_count.loc[device_language_count > 200000].index.values]\n",
    "device_language_category[1] = [x[0] for x in device_language_count.loc[device_language_count <= 200000].index.values]\n",
    "\n",
    "device_language_type_dict = {}\n",
    "for key, values in device_language_category.items():\n",
    "    for item in values:\n",
    "        device_language_type_dict[item] = key\n",
    "\n",
    "json.dump(device_language_type_dict, open(\"data/processed/device_language_type_dict.json\", \"w\"))\n",
    "df_dataset['device_language'] = df_dataset['device_language'].apply(lambda x: x if device_language_type_dict.get(x) == 0 else \"other_device_language\")\n",
    "df_dataset.loc[df_dataset['device_language'] == 'en', 'device_language'] = 1\n",
    "df_dataset.loc[df_dataset['device_language'] == 'other_device_language', 'device_language'] = 0\n",
    "df_dataset.device_language = df_dataset.device_language.astype(int)"
   ]
  },
  {
   "cell_type": "markdown",
   "metadata": {},
   "source": [
    "### device_devicetype"
   ]
  },
  {
   "cell_type": "code",
   "execution_count": 31,
   "metadata": {},
   "outputs": [],
   "source": [
    "device_devicetype_count = df_dataset[['device_devicetype']].value_counts()\n",
    "device_devicetype_category = {}\n",
    "device_devicetype_category[0] = [x[0] for x in device_devicetype_count.loc[device_devicetype_count > 100000].index.values]\n",
    "device_devicetype_category[1] = [x[0] for x in device_devicetype_count.loc[device_devicetype_count <= 100000].index.values]\n",
    "\n",
    "device_devicetype_type_dict = {}\n",
    "for key, values in device_devicetype_category.items():\n",
    "    for item in values:\n",
    "        device_devicetype_type_dict[item] = key\n",
    "\n",
    "json.dump(device_devicetype_type_dict, open(\"data/processed/device_devicetype_type_dict.json\", \"w\"))\n",
    "df_dataset['device_devicetype'] = df_dataset['device_devicetype'].apply(lambda x: str(x) if device_devicetype_type_dict.get(x) == 0 else \"other_device_devicetype\")"
   ]
  },
  {
   "cell_type": "markdown",
   "metadata": {},
   "source": [
    "### ad_size"
   ]
  },
  {
   "cell_type": "code",
   "execution_count": 32,
   "metadata": {},
   "outputs": [],
   "source": [
    "ad_size_count = df_dataset[['ad_size']].value_counts()\n",
    "ad_size_category = {}\n",
    "ad_size_category[0] = [x[0] for x in ad_size_count.loc[ad_size_count > 50000].index.values]\n",
    "ad_size_category[1] = [x[0] for x in ad_size_count.loc[ad_size_count <= 50000].index.values]\n",
    "\n",
    "ad_size_type_dict = {}\n",
    "for key, values in ad_size_category.items():\n",
    "    for item in values:\n",
    "        ad_size_type_dict[item] = key\n",
    "\n",
    "json.dump(ad_size_type_dict, open(\"data/processed/ad_size_type_dict.json\", \"w\"))\n",
    "df_dataset['ad_size'] = df_dataset['ad_size'].apply(lambda x: x if ad_size_type_dict.get(x) == 0 else \"other_ad_size\")"
   ]
  },
  {
   "cell_type": "markdown",
   "metadata": {},
   "source": [
    "## Prepare Dataset"
   ]
  },
  {
   "cell_type": "code",
   "execution_count": 33,
   "metadata": {},
   "outputs": [
    {
     "data": {
      "text/html": [
       "<div>\n",
       "<style scoped>\n",
       "    .dataframe tbody tr th:only-of-type {\n",
       "        vertical-align: middle;\n",
       "    }\n",
       "\n",
       "    .dataframe tbody tr th {\n",
       "        vertical-align: top;\n",
       "    }\n",
       "\n",
       "    .dataframe thead th {\n",
       "        text-align: right;\n",
       "    }\n",
       "</style>\n",
       "<table border=\"1\" class=\"dataframe\">\n",
       "  <thead>\n",
       "    <tr style=\"text-align: right;\">\n",
       "      <th></th>\n",
       "      <th>column_name</th>\n",
       "      <th>number_unique_values</th>\n",
       "    </tr>\n",
       "  </thead>\n",
       "  <tbody>\n",
       "    <tr>\n",
       "      <th>2</th>\n",
       "      <td>device_os</td>\n",
       "      <td>2</td>\n",
       "    </tr>\n",
       "    <tr>\n",
       "      <th>7</th>\n",
       "      <td>device_language</td>\n",
       "      <td>2</td>\n",
       "    </tr>\n",
       "    <tr>\n",
       "      <th>9</th>\n",
       "      <td>click</td>\n",
       "      <td>2</td>\n",
       "    </tr>\n",
       "    <tr>\n",
       "      <th>8</th>\n",
       "      <td>device_devicetype</td>\n",
       "      <td>3</td>\n",
       "    </tr>\n",
       "    <tr>\n",
       "      <th>4</th>\n",
       "      <td>day_local</td>\n",
       "      <td>4</td>\n",
       "    </tr>\n",
       "    <tr>\n",
       "      <th>10</th>\n",
       "      <td>ad_size</td>\n",
       "      <td>4</td>\n",
       "    </tr>\n",
       "    <tr>\n",
       "      <th>6</th>\n",
       "      <td>app_store_cat</td>\n",
       "      <td>17</td>\n",
       "    </tr>\n",
       "    <tr>\n",
       "      <th>5</th>\n",
       "      <td>hour_local</td>\n",
       "      <td>24</td>\n",
       "    </tr>\n",
       "    <tr>\n",
       "      <th>0</th>\n",
       "      <td>bidder_id</td>\n",
       "      <td>86</td>\n",
       "    </tr>\n",
       "    <tr>\n",
       "      <th>1</th>\n",
       "      <td>ad_id</td>\n",
       "      <td>102</td>\n",
       "    </tr>\n",
       "    <tr>\n",
       "      <th>3</th>\n",
       "      <td>app_key</td>\n",
       "      <td>2382</td>\n",
       "    </tr>\n",
       "  </tbody>\n",
       "</table>\n",
       "</div>"
      ],
      "text/plain": [
       "          column_name  number_unique_values\n",
       "2           device_os                     2\n",
       "7     device_language                     2\n",
       "9               click                     2\n",
       "8   device_devicetype                     3\n",
       "4           day_local                     4\n",
       "10            ad_size                     4\n",
       "6       app_store_cat                    17\n",
       "5          hour_local                    24\n",
       "0           bidder_id                    86\n",
       "1               ad_id                   102\n",
       "3             app_key                  2382"
      ]
     },
     "execution_count": 33,
     "metadata": {},
     "output_type": "execute_result"
    }
   ],
   "source": [
    "columns_num_unique_values = [(column, len(df_dataset[column].unique())) for column in df_dataset.columns]\n",
    "columns = ['column_name', 'number_unique_values']\n",
    "df_columns_num_unique_values = pd.DataFrame.from_records(columns_num_unique_values, columns=columns).sort_values('number_unique_values')\n",
    "df_columns_num_unique_values"
   ]
  },
  {
   "cell_type": "code",
   "execution_count": 34,
   "metadata": {},
   "outputs": [],
   "source": [
    "one_hot_features = ['device_devicetype', 'day_local', 'ad_size', 'app_store_cat', 'hour_local', 'bidder_id', 'ad_id', 'app_key']\n",
    "for feature in one_hot_features:\n",
    "    one_hot = pd.get_dummies(df_dataset[feature], prefix=feature)\n",
    "    # Drop the feature as it is now encoded\n",
    "    df_dataset = df_dataset.drop(feature, axis = 1)\n",
    "    # Join the encoded df\n",
    "    df_dataset = df_dataset.join(one_hot)"
   ]
  },
  {
   "cell_type": "code",
   "execution_count": 35,
   "metadata": {},
   "outputs": [],
   "source": [
    "features = list(df_dataset.columns)\n",
    "features.remove('click')\n",
    "\n",
    "df_train = df_dataset.head(int(len(df_dataset) * DATASET_SPLIT[0]))\n",
    "x_train = sparse.csr_matrix(df_train[features].to_numpy())\n",
    "y_train = df_train['click'].to_numpy()\n",
    "\n",
    "df_valid = df_dataset.iloc[int(len(df_dataset) * DATASET_SPLIT[0]):int(len(df_dataset) * DATASET_SPLIT[0]) + int(len(df_dataset) * DATASET_SPLIT[1])]\n",
    "x_valid = sparse.csr_matrix(df_valid[features].to_numpy())\n",
    "y_valid = df_valid['click'].to_numpy()\n",
    "\n",
    "df_test = df_dataset.iloc[int(len(df_dataset) * DATASET_SPLIT[0]) + int(len(df_dataset) * DATASET_SPLIT[1]):]\n",
    "x_test = sparse.csr_matrix(df_test[features].to_numpy())\n",
    "y_test = df_test['click'].to_numpy()"
   ]
  },
  {
   "cell_type": "markdown",
   "metadata": {},
   "source": [
    "# Model Building"
   ]
  },
  {
   "cell_type": "markdown",
   "metadata": {},
   "source": [
    "## Hyperparameter Tuning"
   ]
  },
  {
   "cell_type": "markdown",
   "metadata": {},
   "source": [
    "For hyperparameters tuning, I could use NNI ([Neural Network Intelligence](https://github.com/microsoft/nni)) to tune hyperparameters in an efficient and automatic way. For simplicity, I used grid search to find the l2 regularizer strength which gives the best F1-score on validation set."
   ]
  },
  {
   "cell_type": "code",
   "execution_count": 36,
   "metadata": {},
   "outputs": [],
   "source": [
    "# cv_result = {}\n",
    "\n",
    "# for l2_reg in [1e-5, 1e-4, 1e-3, 1e-2, 1e-1, 1, 10, 100, 1000, 10000, 100000]:\n",
    "#     clf = LogisticRegression(random_state=0, solver='liblinear', C=l2_reg).fit(x_train, y_train)\n",
    "#     y_predict = clf.predict(x_valid)\n",
    "    \n",
    "#     cv_result[l2_reg] = {}\n",
    "#     cv_result[l2_reg]['precision_binary'] = precision_score(y_valid, y_predict, average='binary', zero_division=1)\n",
    "#     cv_result[l2_reg]['precision_mirco'] = precision_score(y_valid, y_predict, average='micro', zero_division=1)\n",
    "#     cv_result[l2_reg]['precision_macro'] = precision_score(y_valid, y_predict, average='macro', zero_division=1)\n",
    "#     cv_result[l2_reg]['precision_weighted'] = precision_score(y_valid, y_predict, average='weighted', zero_division=1)\n",
    "#     cv_result[l2_reg]['precision_non_avg'] = precision_score(y_valid, y_predict, average=None, zero_division=1)\n",
    "#     cv_result[l2_reg]['recall_binary'] = recall_score(y_valid, y_predict, average='binary')\n",
    "#     cv_result[l2_reg]['recall_mirco'] = recall_score(y_valid, y_predict, average='micro')\n",
    "#     cv_result[l2_reg]['recall_macro'] = recall_score(y_valid, y_predict, average='macro')\n",
    "#     cv_result[l2_reg]['recall_weighted'] = recall_score(y_valid, y_predict, average='weighted')\n",
    "#     cv_result[l2_reg]['recall_non_avg'] = recall_score(y_valid, y_predict, average=None)\n",
    "#     cv_result[l2_reg]['f1_binary'] = f1_score(y_valid, y_predict, average='binary')\n",
    "#     cv_result[l2_reg]['f1_mirco'] = f1_score(y_valid, y_predict, average='micro')\n",
    "#     cv_result[l2_reg]['f1_macro'] = f1_score(y_valid, y_predict, average='macro')\n",
    "#     cv_result[l2_reg]['f1_weighted'] = f1_score(y_valid, y_predict, average='weighted')\n",
    "#     cv_result[l2_reg]['f1_non_avg'] = f1_score(y_valid, y_predict, average=None)\n",
    "    \n",
    "# pd.DataFrame(cv_result)"
   ]
  },
  {
   "cell_type": "markdown",
   "metadata": {},
   "source": [
    "## Model Training, Prediction and Evaluation"
   ]
  },
  {
   "cell_type": "code",
   "execution_count": 37,
   "metadata": {},
   "outputs": [],
   "source": [
    "x_train = sparse.vstack([x_train, x_valid])\n",
    "y_train = np.concatenate([y_train, y_valid])"
   ]
  },
  {
   "cell_type": "code",
   "execution_count": 38,
   "metadata": {},
   "outputs": [],
   "source": [
    "clf = LogisticRegression(random_state=0, solver='liblinear', C=100).fit(x_train, y_train)\n",
    "y_predict = clf.predict(x_test)"
   ]
  },
  {
   "cell_type": "code",
   "execution_count": 39,
   "metadata": {},
   "outputs": [
    {
     "data": {
      "text/html": [
       "<div>\n",
       "<style scoped>\n",
       "    .dataframe tbody tr th:only-of-type {\n",
       "        vertical-align: middle;\n",
       "    }\n",
       "\n",
       "    .dataframe tbody tr th {\n",
       "        vertical-align: top;\n",
       "    }\n",
       "\n",
       "    .dataframe thead th {\n",
       "        text-align: right;\n",
       "    }\n",
       "</style>\n",
       "<table border=\"1\" class=\"dataframe\">\n",
       "  <thead>\n",
       "    <tr style=\"text-align: right;\">\n",
       "      <th></th>\n",
       "      <th>Metrics</th>\n",
       "      <th>Precision</th>\n",
       "      <th>Recall</th>\n",
       "      <th>F1-score</th>\n",
       "    </tr>\n",
       "  </thead>\n",
       "  <tbody>\n",
       "    <tr>\n",
       "      <th>0</th>\n",
       "      <td>Micro Average</td>\n",
       "      <td>0.948859</td>\n",
       "      <td>0.948859</td>\n",
       "      <td>0.948859</td>\n",
       "    </tr>\n",
       "    <tr>\n",
       "      <th>1</th>\n",
       "      <td>Macro Average</td>\n",
       "      <td>0.491700</td>\n",
       "      <td>0.499901</td>\n",
       "      <td>0.487261</td>\n",
       "    </tr>\n",
       "    <tr>\n",
       "      <th>2</th>\n",
       "      <td>Weighed Average</td>\n",
       "      <td>0.903063</td>\n",
       "      <td>0.948859</td>\n",
       "      <td>0.924520</td>\n",
       "    </tr>\n",
       "  </tbody>\n",
       "</table>\n",
       "</div>"
      ],
      "text/plain": [
       "           Metrics  Precision    Recall  F1-score\n",
       "0    Micro Average   0.948859  0.948859  0.948859\n",
       "1    Macro Average   0.491700  0.499901  0.487261\n",
       "2  Weighed Average   0.903063  0.948859  0.924520"
      ]
     },
     "execution_count": 39,
     "metadata": {},
     "output_type": "execute_result"
    }
   ],
   "source": [
    "metrics_result = []\n",
    "\n",
    "micro = {}\n",
    "micro['Precision'] = precision_score(y_test, y_predict, average='micro', zero_division=1)\n",
    "micro['Recall'] = recall_score(y_test, y_predict, average='micro')\n",
    "micro['F1-score'] = f1_score(y_test, y_predict, average='micro')\n",
    "\n",
    "macro = {}\n",
    "macro['Precision'] = precision_score(y_test, y_predict, average='macro', zero_division=1)\n",
    "macro['Recall'] = recall_score(y_test, y_predict, average='macro')\n",
    "macro['F1-score'] = f1_score(y_test, y_predict, average='macro')\n",
    "\n",
    "weighted = {}\n",
    "weighted['Precision'] = precision_score(y_test, y_predict, average='weighted', zero_division=1)\n",
    "weighted['Recall'] = recall_score(y_test, y_predict, average='weighted')\n",
    "weighted['F1-score'] = f1_score(y_test, y_predict, average='weighted')\n",
    "\n",
    "metrics_result.append(micro)\n",
    "metrics_result.append(macro)\n",
    "metrics_result.append(weighted)\n",
    "df_result = pd.DataFrame(metrics_result)\n",
    "\n",
    "df_result.insert(0, \"Metrics\", ['Micro Average', 'Macro Average', 'Weighed Average'])\n",
    "\n",
    "df_result"
   ]
  },
  {
   "cell_type": "markdown",
   "metadata": {},
   "source": [
    "<ins>Observations</ins>:\n",
    "- First, we will talk about the differences between micro, macro and weighted average. Micro average uses the global number of TP, FN, FP and calculates scores directly without favouring any class in particular. Macro average calculates scores separated by class but not using weights for the aggregation, which resuls in a bigger penalisation when the learning algorithm does not perform well with the minority classes. Weighted average calculates scores for each class independently but when it adds them together uses a weight that depends on the number of true labels of each class. Therefore, it favours the majority class.\n",
    "- Because we care about class imbalance, micro average is more important in this case. As we have discovered above, the dataset is extremely unbalanced. F1-score is the most important metrics in this case.\n",
    "- We can see that the logistic regression achieves around 48.7% in terms of F1-score with marco average."
   ]
  },
  {
   "cell_type": "markdown",
   "metadata": {},
   "source": [
    "# Conclusion"
   ]
  },
  {
   "cell_type": "markdown",
   "metadata": {},
   "source": [
    "- I would dive deeper into finding the correlation between features and click. It might be worthwhile looking at the relationship between combined features and click.\n",
    "- This dataset is extremely unbalanced. It might be worthwile implementing some of the techniques available to tackle imbalanced problems such as downsampling the majority class, upsampling the minority, SMOTE, clustering the majority, etc.\n",
    "- Because most features are discrete, converting original features to one hot would drastically increases feature dimensions. It might be worthwhile implementing tree-based models. Another way to deal with very sparse training data is to use Factorization Machines (FM) or Field Aware Factorization Machines (FFM).\n",
    "- This task is about recommending ads to users. It would make sense to leverage as much information about ads as possible. However, the only direct information of ads that is available is ad_id. If an ad only exists in training set, the learning algorithm would not have any direct information about the ad in testing. It would be worthwhile converting ads to latent embeddings using latest representation learning techniques. Then the learning algorithms use that information along with ad_id.\n",
    "- After exploring linear models (e.g., logistic regression, linear regression, etc) as baselines, it is worthwhile implementing neural networks since neural networks tend to have larger capacity than linear models.\n",
    "- To increase performance, we can also use ensemble such as bagging and boosting."
   ]
  },
  {
   "cell_type": "code",
   "execution_count": null,
   "metadata": {},
   "outputs": [],
   "source": []
  }
 ],
 "metadata": {
  "kernelspec": {
   "display_name": "restore_punct",
   "language": "python",
   "name": "restore_punct"
  },
  "language_info": {
   "codemirror_mode": {
    "name": "ipython",
    "version": 3
   },
   "file_extension": ".py",
   "mimetype": "text/x-python",
   "name": "python",
   "nbconvert_exporter": "python",
   "pygments_lexer": "ipython3",
   "version": "3.7.6"
  },
  "toc": {
   "base_numbering": 1,
   "nav_menu": {},
   "number_sections": true,
   "sideBar": true,
   "skip_h1_title": false,
   "title_cell": "Table of Contents",
   "title_sidebar": "Contents",
   "toc_cell": false,
   "toc_position": {
    "height": "calc(100% - 180px)",
    "left": "10px",
    "top": "150px",
    "width": "384px"
   },
   "toc_section_display": true,
   "toc_window_display": true
  }
 },
 "nbformat": 4,
 "nbformat_minor": 4
}
